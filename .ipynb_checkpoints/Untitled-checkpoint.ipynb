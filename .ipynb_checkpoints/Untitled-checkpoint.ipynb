{
 "cells": [
  {
   "cell_type": "code",
   "execution_count": 63,
   "id": "dbbc91ad-632f-4d9c-b561-eaa28f177734",
   "metadata": {},
   "outputs": [],
   "source": [
    "import pygame\n",
    "import pygame.midi as md\n",
    "import pandas as pd\n",
    "import numpy as np\n",
    "from string import digits"
   ]
  },
  {
   "cell_type": "code",
   "execution_count": 3,
   "id": "e9742dcc-b1ef-4ba6-b732-a58c7256ee57",
   "metadata": {},
   "outputs": [],
   "source": [
    "# !pip install pandas\n",
    "import pandas"
   ]
  },
  {
   "cell_type": "code",
   "execution_count": 6,
   "id": "b389d127-2142-4791-af9d-b45ffbbb52ba",
   "metadata": {},
   "outputs": [],
   "source": [
    "\n"
   ]
  },
  {
   "cell_type": "code",
   "execution_count": 47,
   "id": "d4b19c02-20ae-4868-9e21-4e0e05baa61e",
   "metadata": {},
   "outputs": [],
   "source": [
    "dfChord=pd.read_csv(\"chord-new.csv\", delimiter=\",\")\n",
    "dfChordsSimplified=dfChord.copy()\n",
    "dfScales=pd.read_csv(\"music-scales-new.csv\", delimiter=\",\", header=None)\n",
    "dfChordsToMidiPitches=pd.read_csv(\"guitar-chords-midi-pitches-new.csv\", delimiter=\";\")\n",
    "dfChordProgressionsRoman=pd.read_csv(\"chord-porgressions-roman-numeral-new.csv\", delimiter=\";\")"
   ]
  },
  {
   "cell_type": "code",
   "execution_count": 8,
   "id": "78c79b75-78b8-4bd1-aeb3-44ce220bc822",
   "metadata": {},
   "outputs": [],
   "source": [
    "#searchable dropdown checkbox lists for unique values of chord_root and chord_type. Offer to display chord_structure and or Notes\n",
    "#option to turn on inversions for basic chords\n",
    "#searchable dropdown box for scales\n",
    "#note to midi and vice versa conversion\n",
    "#searchable checkbox dropdown for chord progressions"
   ]
  },
  {
   "cell_type": "code",
   "execution_count": 9,
   "id": "60d570ab-c6b2-4c11-a3c2-8decc5e1e38d",
   "metadata": {},
   "outputs": [
    {
     "data": {
      "text/html": [
       "<div>\n",
       "<style scoped>\n",
       "    .dataframe tbody tr th:only-of-type {\n",
       "        vertical-align: middle;\n",
       "    }\n",
       "\n",
       "    .dataframe tbody tr th {\n",
       "        vertical-align: top;\n",
       "    }\n",
       "\n",
       "    .dataframe thead th {\n",
       "        text-align: right;\n",
       "    }\n",
       "</style>\n",
       "<table border=\"1\" class=\"dataframe\">\n",
       "  <thead>\n",
       "    <tr style=\"text-align: right;\">\n",
       "      <th></th>\n",
       "      <th>CHORD_ROOT</th>\n",
       "      <th>CHORD_TYPE</th>\n",
       "      <th>CHORD_STRUCTURE</th>\n",
       "      <th>NOTES</th>\n",
       "      <th>N/A</th>\n",
       "      <th>N/A.1</th>\n",
       "      <th>N/A.2</th>\n",
       "      <th>N/A.3</th>\n",
       "      <th>N/A.4</th>\n",
       "      <th>N/A.5</th>\n",
       "    </tr>\n",
       "  </thead>\n",
       "  <tbody>\n",
       "    <tr>\n",
       "      <th>0</th>\n",
       "      <td>A#</td>\n",
       "      <td>9(#5)</td>\n",
       "      <td>1;3;#5;b7;9</td>\n",
       "      <td>A#</td>\n",
       "      <td>C##</td>\n",
       "      <td>E##</td>\n",
       "      <td>G#</td>\n",
       "      <td>B#</td>\n",
       "      <td>NaN</td>\n",
       "      <td>NaN</td>\n",
       "    </tr>\n",
       "    <tr>\n",
       "      <th>1</th>\n",
       "      <td>A#</td>\n",
       "      <td>13</td>\n",
       "      <td>1;3;5;b7;9;11;13</td>\n",
       "      <td>A#</td>\n",
       "      <td>C##</td>\n",
       "      <td>E#</td>\n",
       "      <td>G#</td>\n",
       "      <td>B#</td>\n",
       "      <td>D#</td>\n",
       "      <td>F##</td>\n",
       "    </tr>\n",
       "    <tr>\n",
       "      <th>2</th>\n",
       "      <td>A#</td>\n",
       "      <td>6(#11)</td>\n",
       "      <td>1;3;5;6;#11</td>\n",
       "      <td>A#</td>\n",
       "      <td>C##</td>\n",
       "      <td>E#</td>\n",
       "      <td>F##</td>\n",
       "      <td>D##</td>\n",
       "      <td>NaN</td>\n",
       "      <td>NaN</td>\n",
       "    </tr>\n",
       "    <tr>\n",
       "      <th>3</th>\n",
       "      <td>A#</td>\n",
       "      <td>7(#9)</td>\n",
       "      <td>1;3;5;b7;#9</td>\n",
       "      <td>A#</td>\n",
       "      <td>C##</td>\n",
       "      <td>E#</td>\n",
       "      <td>G#</td>\n",
       "      <td>B##</td>\n",
       "      <td>NaN</td>\n",
       "      <td>NaN</td>\n",
       "    </tr>\n",
       "    <tr>\n",
       "      <th>4</th>\n",
       "      <td>A#</td>\n",
       "      <td>+(#11)</td>\n",
       "      <td>1;3;#5;#11</td>\n",
       "      <td>A#</td>\n",
       "      <td>C##</td>\n",
       "      <td>E##</td>\n",
       "      <td>D##</td>\n",
       "      <td>NaN</td>\n",
       "      <td>NaN</td>\n",
       "      <td>NaN</td>\n",
       "    </tr>\n",
       "  </tbody>\n",
       "</table>\n",
       "</div>"
      ],
      "text/plain": [
       "  CHORD_ROOT CHORD_TYPE   CHORD_STRUCTURE NOTES  N/A N/A.1 N/A.2 N/A.3 N/A.4  \\\n",
       "0         A#      9(#5)       1;3;#5;b7;9    A#  C##   E##    G#    B#   NaN   \n",
       "1         A#         13  1;3;5;b7;9;11;13    A#  C##    E#    G#    B#    D#   \n",
       "2         A#     6(#11)       1;3;5;6;#11    A#  C##    E#   F##   D##   NaN   \n",
       "3         A#      7(#9)       1;3;5;b7;#9    A#  C##    E#    G#   B##   NaN   \n",
       "4         A#     +(#11)        1;3;#5;#11    A#  C##   E##   D##   NaN   NaN   \n",
       "\n",
       "  N/A.5  \n",
       "0   NaN  \n",
       "1   F##  \n",
       "2   NaN  \n",
       "3   NaN  \n",
       "4   NaN  "
      ]
     },
     "execution_count": 9,
     "metadata": {},
     "output_type": "execute_result"
    }
   ],
   "source": [
    "dfChord.head()"
   ]
  },
  {
   "cell_type": "code",
   "execution_count": 10,
   "id": "547ae94f-a27e-459e-9efd-6e577dcaf747",
   "metadata": {},
   "outputs": [
    {
     "data": {
      "text/html": [
       "<div>\n",
       "<style scoped>\n",
       "    .dataframe tbody tr th:only-of-type {\n",
       "        vertical-align: middle;\n",
       "    }\n",
       "\n",
       "    .dataframe tbody tr th {\n",
       "        vertical-align: top;\n",
       "    }\n",
       "\n",
       "    .dataframe thead th {\n",
       "        text-align: right;\n",
       "    }\n",
       "</style>\n",
       "<table border=\"1\" class=\"dataframe\">\n",
       "  <thead>\n",
       "    <tr style=\"text-align: right;\">\n",
       "      <th></th>\n",
       "      <th>0</th>\n",
       "      <th>1</th>\n",
       "      <th>2</th>\n",
       "      <th>3</th>\n",
       "      <th>4</th>\n",
       "      <th>5</th>\n",
       "      <th>6</th>\n",
       "      <th>7</th>\n",
       "      <th>8</th>\n",
       "      <th>9</th>\n",
       "      <th>10</th>\n",
       "    </tr>\n",
       "  </thead>\n",
       "  <tbody>\n",
       "    <tr>\n",
       "      <th>0</th>\n",
       "      <td>ChromaticTriMirror</td>\n",
       "      <td>0</td>\n",
       "      <td>1</td>\n",
       "      <td>2</td>\n",
       "      <td>NaN</td>\n",
       "      <td>NaN</td>\n",
       "      <td>NaN</td>\n",
       "      <td>NaN</td>\n",
       "      <td>NaN</td>\n",
       "      <td>NaN</td>\n",
       "      <td>NaN</td>\n",
       "    </tr>\n",
       "    <tr>\n",
       "      <th>1</th>\n",
       "      <td>DoReMi</td>\n",
       "      <td>0</td>\n",
       "      <td>2</td>\n",
       "      <td>4</td>\n",
       "      <td>NaN</td>\n",
       "      <td>NaN</td>\n",
       "      <td>NaN</td>\n",
       "      <td>NaN</td>\n",
       "      <td>NaN</td>\n",
       "      <td>NaN</td>\n",
       "      <td>NaN</td>\n",
       "    </tr>\n",
       "    <tr>\n",
       "      <th>2</th>\n",
       "      <td>Flat6and7</td>\n",
       "      <td>0</td>\n",
       "      <td>10</td>\n",
       "      <td>11</td>\n",
       "      <td>NaN</td>\n",
       "      <td>NaN</td>\n",
       "      <td>NaN</td>\n",
       "      <td>NaN</td>\n",
       "      <td>NaN</td>\n",
       "      <td>NaN</td>\n",
       "      <td>NaN</td>\n",
       "    </tr>\n",
       "    <tr>\n",
       "      <th>3</th>\n",
       "      <td>MajorFlat6</td>\n",
       "      <td>0</td>\n",
       "      <td>4</td>\n",
       "      <td>8</td>\n",
       "      <td>NaN</td>\n",
       "      <td>NaN</td>\n",
       "      <td>NaN</td>\n",
       "      <td>NaN</td>\n",
       "      <td>NaN</td>\n",
       "      <td>NaN</td>\n",
       "      <td>NaN</td>\n",
       "    </tr>\n",
       "    <tr>\n",
       "      <th>4</th>\n",
       "      <td>MajorTriad1</td>\n",
       "      <td>0</td>\n",
       "      <td>3</td>\n",
       "      <td>8</td>\n",
       "      <td>NaN</td>\n",
       "      <td>NaN</td>\n",
       "      <td>NaN</td>\n",
       "      <td>NaN</td>\n",
       "      <td>NaN</td>\n",
       "      <td>NaN</td>\n",
       "      <td>NaN</td>\n",
       "    </tr>\n",
       "  </tbody>\n",
       "</table>\n",
       "</div>"
      ],
      "text/plain": [
       "                   0   1   2   3   4   5   6   7   8   9   10\n",
       "0  ChromaticTriMirror   0   1   2 NaN NaN NaN NaN NaN NaN NaN\n",
       "1              DoReMi   0   2   4 NaN NaN NaN NaN NaN NaN NaN\n",
       "2           Flat6and7   0  10  11 NaN NaN NaN NaN NaN NaN NaN\n",
       "3          MajorFlat6   0   4   8 NaN NaN NaN NaN NaN NaN NaN\n",
       "4         MajorTriad1   0   3   8 NaN NaN NaN NaN NaN NaN NaN"
      ]
     },
     "execution_count": 10,
     "metadata": {},
     "output_type": "execute_result"
    }
   ],
   "source": [
    "dfScales.head()"
   ]
  },
  {
   "cell_type": "code",
   "execution_count": 11,
   "id": "4f6257fd-401c-472c-8092-77cd14fa7880",
   "metadata": {},
   "outputs": [
    {
     "data": {
      "text/html": [
       "<div>\n",
       "<style scoped>\n",
       "    .dataframe tbody tr th:only-of-type {\n",
       "        vertical-align: middle;\n",
       "    }\n",
       "\n",
       "    .dataframe tbody tr th {\n",
       "        vertical-align: top;\n",
       "    }\n",
       "\n",
       "    .dataframe thead th {\n",
       "        text-align: right;\n",
       "    }\n",
       "</style>\n",
       "<table border=\"1\" class=\"dataframe\">\n",
       "  <thead>\n",
       "    <tr style=\"text-align: right;\">\n",
       "      <th></th>\n",
       "      <th>Chord</th>\n",
       "      <th>2nd</th>\n",
       "      <th>3rd</th>\n",
       "      <th>4th</th>\n",
       "      <th>5th</th>\n",
       "      <th>6th</th>\n",
       "    </tr>\n",
       "  </thead>\n",
       "  <tbody>\n",
       "    <tr>\n",
       "      <th>0</th>\n",
       "      <td>Am</td>\n",
       "      <td>45</td>\n",
       "      <td>52</td>\n",
       "      <td>57.0</td>\n",
       "      <td>60.0</td>\n",
       "      <td>64.0</td>\n",
       "    </tr>\n",
       "    <tr>\n",
       "      <th>1</th>\n",
       "      <td>Amaj</td>\n",
       "      <td>45</td>\n",
       "      <td>52</td>\n",
       "      <td>57.0</td>\n",
       "      <td>61.0</td>\n",
       "      <td>64.0</td>\n",
       "    </tr>\n",
       "    <tr>\n",
       "      <th>2</th>\n",
       "      <td>A6</td>\n",
       "      <td>52</td>\n",
       "      <td>57</td>\n",
       "      <td>61.0</td>\n",
       "      <td>66.0</td>\n",
       "      <td>NaN</td>\n",
       "    </tr>\n",
       "    <tr>\n",
       "      <th>3</th>\n",
       "      <td>A7</td>\n",
       "      <td>45</td>\n",
       "      <td>52</td>\n",
       "      <td>55.0</td>\n",
       "      <td>61.0</td>\n",
       "      <td>64.0</td>\n",
       "    </tr>\n",
       "    <tr>\n",
       "      <th>4</th>\n",
       "      <td>A7b5</td>\n",
       "      <td>45</td>\n",
       "      <td>55</td>\n",
       "      <td>61.0</td>\n",
       "      <td>63.0</td>\n",
       "      <td>NaN</td>\n",
       "    </tr>\n",
       "  </tbody>\n",
       "</table>\n",
       "</div>"
      ],
      "text/plain": [
       "  Chord  2nd  3rd   4th   5th   6th\n",
       "0    Am   45   52  57.0  60.0  64.0\n",
       "1  Amaj   45   52  57.0  61.0  64.0\n",
       "2    A6   52   57  61.0  66.0   NaN\n",
       "3    A7   45   52  55.0  61.0  64.0\n",
       "4  A7b5   45   55  61.0  63.0   NaN"
      ]
     },
     "execution_count": 11,
     "metadata": {},
     "output_type": "execute_result"
    }
   ],
   "source": [
    "dfChordsToMidiPitches.head()"
   ]
  },
  {
   "cell_type": "code",
   "execution_count": 12,
   "id": "e5896f31-d531-45c9-92a3-36cc31ecb43b",
   "metadata": {},
   "outputs": [
    {
     "data": {
      "text/html": [
       "<div>\n",
       "<style scoped>\n",
       "    .dataframe tbody tr th:only-of-type {\n",
       "        vertical-align: middle;\n",
       "    }\n",
       "\n",
       "    .dataframe tbody tr th {\n",
       "        vertical-align: top;\n",
       "    }\n",
       "\n",
       "    .dataframe thead th {\n",
       "        text-align: right;\n",
       "    }\n",
       "</style>\n",
       "<table border=\"1\" class=\"dataframe\">\n",
       "  <thead>\n",
       "    <tr style=\"text-align: right;\">\n",
       "      <th></th>\n",
       "      <th>Style,Progression,Transposable</th>\n",
       "    </tr>\n",
       "  </thead>\n",
       "  <tbody>\n",
       "    <tr>\n",
       "      <th>0</th>\n",
       "      <td>Blues,I-V-IV-IV-I-V-I-V,yes</td>\n",
       "    </tr>\n",
       "    <tr>\n",
       "      <th>1</th>\n",
       "      <td>Pachelbel,I-V-vi-iii-IV-I-IV-V,no</td>\n",
       "    </tr>\n",
       "    <tr>\n",
       "      <th>2</th>\n",
       "      <td>Romanesca,III-VII-i-V-III-VII-i-V-i,no</td>\n",
       "    </tr>\n",
       "    <tr>\n",
       "      <th>3</th>\n",
       "      <td>Popular,I-V-IV,yes</td>\n",
       "    </tr>\n",
       "    <tr>\n",
       "      <th>4</th>\n",
       "      <td>Popular,I-V-VI-IV,yes</td>\n",
       "    </tr>\n",
       "  </tbody>\n",
       "</table>\n",
       "</div>"
      ],
      "text/plain": [
       "           Style,Progression,Transposable\n",
       "0             Blues,I-V-IV-IV-I-V-I-V,yes\n",
       "1       Pachelbel,I-V-vi-iii-IV-I-IV-V,no\n",
       "2  Romanesca,III-VII-i-V-III-VII-i-V-i,no\n",
       "3                      Popular,I-V-IV,yes\n",
       "4                   Popular,I-V-VI-IV,yes"
      ]
     },
     "execution_count": 12,
     "metadata": {},
     "output_type": "execute_result"
    }
   ],
   "source": [
    "dfChordProgressionsRoman.head()"
   ]
  },
  {
   "cell_type": "code",
   "execution_count": 76,
   "id": "bb441de9-aec2-4de7-aa7b-31a39f2c71cc",
   "metadata": {},
   "outputs": [
    {
     "name": "stdout",
     "output_type": "stream",
     "text": [
      "['A0', 'A#0', 'B0', 'C1', 'C#1', 'D1', 'D#1', 'E1', 'F1', 'F#1', 'G1', 'G#1', 'A1', 'A#1', 'B1', 'C2', 'C#2', 'D2', 'D#2', 'E2', 'F2', 'F#2', 'G2', 'G#2', 'A2', 'A#2', 'B2', 'C3', 'C#3', 'D3', 'D#3', 'E3', 'F3', 'F#3', 'G3', 'G#3', 'A3', 'A#3', 'B3', 'C4', 'C#4', 'D4', 'D#4', 'E4', 'F4', 'F#4', 'G4', 'G#4', 'A4', 'A#4', 'B4', 'C5', 'C#5', 'D5', 'D#5', 'E5', 'F5', 'F#5', 'G5', 'G#5', 'A5', 'A#5', 'B5', 'C6', 'C#6', 'D6', 'D#6', 'E6', 'F6', 'F#6', 'G6', 'G#6', 'A6', 'A#6', 'B6', 'C7', 'C#7', 'D7', 'D#7', 'E7', 'F7', 'F#7', 'G7', 'G#7', 'A7', 'A#7', 'B7', 'C8']\n",
      "['A', 'A#', 'B', 'C', 'C#', 'D', 'D#', 'E', 'F', 'F#', 'G', 'G#', 'A', 'A#', 'B', 'C', 'C#', 'D', 'D#', 'E', 'F', 'F#', 'G', 'G#', 'A', 'A#', 'B', 'C', 'C#', 'D', 'D#', 'E', 'F', 'F#', 'G', 'G#', 'A', 'A#', 'B', 'C', 'C#', 'D', 'D#', 'E', 'F', 'F#', 'G', 'G#', 'A', 'A#', 'B', 'C', 'C#', 'D', 'D#', 'E', 'F', 'F#', 'G', 'G#', 'A', 'A#', 'B', 'C', 'C#', 'D', 'D#', 'E', 'F', 'F#', 'G', 'G#', 'A', 'A#', 'B', 'C', 'C#', 'D', 'D#', 'E', 'F', 'F#', 'G', 'G#', 'A', 'A#', 'B', 'C']\n",
      "['A', 'A#', 'B', 'C', 'C#', 'D', 'D#', 'E', 'F', 'F#', 'G', 'G#']\n"
     ]
    }
   ],
   "source": [
    "chordNumeralsRoman=['I','II','iii','IV','V','Vi','VII']\n",
    "midiToAnsiNoteOffset=21\n",
    "ansiNotes=[]\n",
    "for i in range(21,109):\n",
    "#    print(md.midi_to_ansi_note(i))\n",
    "    ansiNotes+=[md.midi_to_ansi_note(i)]\n",
    "print(ansiNotes)\n",
    "numNotes=len(ansiNotes)\n",
    "ansiNotesWithoutOctaves=[]\n",
    "remove_digits = str.maketrans('', '', digits)\n",
    "\n",
    "for i in ansiNotes:\n",
    "    ansiNotesWithoutOctaves.append(i.translate(remove_digits))\n",
    "print(ansiNotesWithoutOctaves)\n",
    "print(ansiNotesWithoutOctaves[:12])\n",
    "singleOctaveNotes=ansiNotesWithoutOctaves[:12]"
   ]
  },
  {
   "cell_type": "code",
   "execution_count": 29,
   "id": "53dc7fe2-fa1c-4762-af14-b816807e1615",
   "metadata": {},
   "outputs": [
    {
     "data": {
      "text/html": [
       "<div>\n",
       "<style scoped>\n",
       "    .dataframe tbody tr th:only-of-type {\n",
       "        vertical-align: middle;\n",
       "    }\n",
       "\n",
       "    .dataframe tbody tr th {\n",
       "        vertical-align: top;\n",
       "    }\n",
       "\n",
       "    .dataframe thead th {\n",
       "        text-align: right;\n",
       "    }\n",
       "</style>\n",
       "<table border=\"1\" class=\"dataframe\">\n",
       "  <thead>\n",
       "    <tr style=\"text-align: right;\">\n",
       "      <th></th>\n",
       "      <th>CHORD_ROOT</th>\n",
       "      <th>CHORD_TYPE</th>\n",
       "      <th>CHORD_STRUCTURE</th>\n",
       "      <th>NOTES</th>\n",
       "      <th>N/A</th>\n",
       "      <th>N/A.1</th>\n",
       "      <th>N/A.2</th>\n",
       "      <th>N/A.3</th>\n",
       "      <th>N/A.4</th>\n",
       "      <th>N/A.5</th>\n",
       "    </tr>\n",
       "  </thead>\n",
       "  <tbody>\n",
       "    <tr>\n",
       "      <th>0</th>\n",
       "      <td>A#</td>\n",
       "      <td>9(#5)</td>\n",
       "      <td>1;3;#5;b7;9</td>\n",
       "      <td>A#</td>\n",
       "      <td>C##</td>\n",
       "      <td>E##</td>\n",
       "      <td>G#</td>\n",
       "      <td>B#</td>\n",
       "      <td>NaN</td>\n",
       "      <td>NaN</td>\n",
       "    </tr>\n",
       "    <tr>\n",
       "      <th>1</th>\n",
       "      <td>A#</td>\n",
       "      <td>13</td>\n",
       "      <td>1;3;5;b7;9;11;13</td>\n",
       "      <td>A#</td>\n",
       "      <td>C##</td>\n",
       "      <td>E#</td>\n",
       "      <td>G#</td>\n",
       "      <td>B#</td>\n",
       "      <td>D#</td>\n",
       "      <td>F##</td>\n",
       "    </tr>\n",
       "    <tr>\n",
       "      <th>2</th>\n",
       "      <td>A#</td>\n",
       "      <td>6(#11)</td>\n",
       "      <td>1;3;5;6;#11</td>\n",
       "      <td>A#</td>\n",
       "      <td>C##</td>\n",
       "      <td>E#</td>\n",
       "      <td>F##</td>\n",
       "      <td>D##</td>\n",
       "      <td>NaN</td>\n",
       "      <td>NaN</td>\n",
       "    </tr>\n",
       "    <tr>\n",
       "      <th>3</th>\n",
       "      <td>A#</td>\n",
       "      <td>7(#9)</td>\n",
       "      <td>1;3;5;b7;#9</td>\n",
       "      <td>A#</td>\n",
       "      <td>C##</td>\n",
       "      <td>E#</td>\n",
       "      <td>G#</td>\n",
       "      <td>B##</td>\n",
       "      <td>NaN</td>\n",
       "      <td>NaN</td>\n",
       "    </tr>\n",
       "    <tr>\n",
       "      <th>4</th>\n",
       "      <td>A#</td>\n",
       "      <td>+(#11)</td>\n",
       "      <td>1;3;#5;#11</td>\n",
       "      <td>A#</td>\n",
       "      <td>C##</td>\n",
       "      <td>E##</td>\n",
       "      <td>D##</td>\n",
       "      <td>NaN</td>\n",
       "      <td>NaN</td>\n",
       "      <td>NaN</td>\n",
       "    </tr>\n",
       "  </tbody>\n",
       "</table>\n",
       "</div>"
      ],
      "text/plain": [
       "  CHORD_ROOT CHORD_TYPE   CHORD_STRUCTURE NOTES  N/A N/A.1 N/A.2 N/A.3 N/A.4  \\\n",
       "0         A#      9(#5)       1;3;#5;b7;9    A#  C##   E##    G#    B#   NaN   \n",
       "1         A#         13  1;3;5;b7;9;11;13    A#  C##    E#    G#    B#    D#   \n",
       "2         A#     6(#11)       1;3;5;6;#11    A#  C##    E#   F##   D##   NaN   \n",
       "3         A#      7(#9)       1;3;5;b7;#9    A#  C##    E#    G#   B##   NaN   \n",
       "4         A#     +(#11)        1;3;#5;#11    A#  C##   E##   D##   NaN   NaN   \n",
       "\n",
       "  N/A.5  \n",
       "0   NaN  \n",
       "1   F##  \n",
       "2   NaN  \n",
       "3   NaN  \n",
       "4   NaN  "
      ]
     },
     "execution_count": 29,
     "metadata": {},
     "output_type": "execute_result"
    }
   ],
   "source": [
    "dfChordsSimplified.head()"
   ]
  },
  {
   "cell_type": "code",
   "execution_count": 30,
   "id": "c39b8cad-cf05-42db-b5dd-bf60d93ee7c4",
   "metadata": {},
   "outputs": [
    {
     "data": {
      "text/plain": [
       "array(['A#', 'B#', 'C#', 'D#', 'E#', 'F#', 'G#', 'Ab', 'Bb', 'Cb', 'Db',\n",
       "       'Eb', 'Fb', 'Gb', 'A', 'B', 'C', 'D', 'E', 'F', 'G'], dtype=object)"
      ]
     },
     "execution_count": 30,
     "metadata": {},
     "output_type": "execute_result"
    }
   ],
   "source": [
    "dfChordsSimplified.NOTES.unique()"
   ]
  },
  {
   "cell_type": "code",
   "execution_count": 33,
   "id": "12a06699-38c5-40db-bebd-41a6d2b844a5",
   "metadata": {},
   "outputs": [
    {
     "data": {
      "text/plain": [
       "array(['C##', 'C#', 'B#', 'D#', 'E#', 'D##', 'F##', 'E', 'F#', 'G#', 'A#',\n",
       "       'G##', 'A', 'B', 'C', 'Cb', 'Bb', 'Db', 'Eb', 'D', 'F', 'Ebb',\n",
       "       'Fb', 'Gb', 'Ab', 'G', 'Abb', 'Bbb'], dtype=object)"
      ]
     },
     "execution_count": 33,
     "metadata": {},
     "output_type": "execute_result"
    }
   ],
   "source": [
    "dfChordsSimplified[\"N/A\"].unique()"
   ]
  },
  {
   "cell_type": "code",
   "execution_count": 70,
   "id": "8acba7ae-9dc6-43b8-9bc7-ee4a7880aea2",
   "metadata": {},
   "outputs": [],
   "source": [
    "dfNotesUnique=np.unique(dfChordsSimplified.iloc[:, 3:9].to_numpy(str))\n",
    "dfNotesUnique=dfNotesUnique[:-1]"
   ]
  },
  {
   "cell_type": "code",
   "execution_count": 71,
   "id": "aa38d240-8745-4148-9b43-240ea2e9d6c8",
   "metadata": {},
   "outputs": [
    {
     "name": "stdout",
     "output_type": "stream",
     "text": [
      "  NOTES  N/A N/A.1 N/A.2 N/A.3 N/A.4\n",
      "0    A#  C##   E##    G#    B#   NaN\n",
      "1    A#  C##    E#    G#    B#    D#\n",
      "2    A#  C##    E#   F##   D##   NaN\n",
      "3    A#  C##    E#    G#   B##   NaN\n",
      "4    A#  C##   E##   D##   NaN   NaN\n"
     ]
    }
   ],
   "source": [
    "print(dfChordsSimplified.iloc[:, 3:9].head())"
   ]
  },
  {
   "cell_type": "code",
   "execution_count": 72,
   "id": "852c6e79-2d3d-425f-82e9-052ca307d8da",
   "metadata": {},
   "outputs": [
    {
     "name": "stdout",
     "output_type": "stream",
     "text": [
      "['A' 'A#' 'A##' 'Ab' 'Abb' 'B' 'B#' 'B##' 'Bb' 'Bbb' 'Bbbb' 'C' 'C#' 'C##'\n",
      " 'C###' 'Cb' 'Cbb' 'D' 'D#' 'D##' 'Db' 'Dbb' 'E' 'E#' 'E##' 'Eb' 'Ebb'\n",
      " 'Ebbb' 'F' 'F#' 'F##' 'F###' 'Fb' 'Fbb' 'G' 'G#' 'G##' 'Gb' 'Gbb']\n"
     ]
    }
   ],
   "source": [
    "print(dfNotesUnique)"
   ]
  },
  {
   "cell_type": "code",
   "execution_count": 91,
   "id": "6f9f6698-a744-47ab-b7f3-5712f15870b7",
   "metadata": {},
   "outputs": [
    {
     "name": "stdout",
     "output_type": "stream",
     "text": [
      "A## B\n",
      "Abb G\n",
      "B## C#\n",
      "Bbb A\n",
      "Bbbb Ab\n",
      "C## D\n",
      "C### D#\n",
      "Cbb Bb\n",
      "D## E\n",
      "Dbb C\n",
      "E## F#\n",
      "Ebb D\n",
      "Ebbb Db\n",
      "F## G\n",
      "F### G#\n",
      "Fbb Eb\n",
      "G## A\n",
      "Gbb F\n",
      "{'A##': 'B', 'Abb': 'G', 'B##': 'C#', 'Bbb': 'A', 'Bbbb': 'Ab', 'C##': 'D', 'C###': 'D#', 'Cbb': 'Bb', 'D##': 'E', 'Dbb': 'C', 'E##': 'F#', 'Ebb': 'D', 'Ebbb': 'Db', 'F##': 'G', 'F###': 'G#', 'Fbb': 'Eb', 'G##': 'A', 'Gbb': 'F'}\n"
     ]
    }
   ],
   "source": [
    "dictToNormalNotes={}\n",
    "for i in dfNotesUnique:\n",
    "    if \"##\" in i:\n",
    "        note=singleOctaveNotes.index(i[:-2])\n",
    "        \n",
    "        if note+2>11:\n",
    "            note=note+2-12\n",
    "        else:\n",
    "            note=note+2\n",
    "        normalNote=singleOctaveNotes[note]\n",
    "        print(i, normalNote)\n",
    "        dictToNormalNotes[i]=normalNote\n",
    "        \n",
    "    elif \"bb\" in i:\n",
    "        note=0\n",
    "        if \"b\" in i[:-2]:\n",
    "            note=singleOctaveNotes.index(i[:-3])-1\n",
    "            \n",
    "        else:\n",
    "            note=singleOctaveNotes.index(i[:-2])\n",
    "        if note-2<0:\n",
    "            note=note-2+12\n",
    "        else:\n",
    "            note=note-2\n",
    "        if \"#\" not in singleOctaveNotes[(note+1)%12]:\n",
    "            normalNote=singleOctaveNotes[(note+1)%12]+\"b\"\n",
    "        else:\n",
    "            normalNote=singleOctaveNotes[(note+1)%12][:-1]\n",
    "        print(i, normalNote)\n",
    "        dictToNormalNotes[i]=normalNote\n",
    "        \n",
    "    #else:\n",
    "    #    print(i, i)\n",
    "#['A', 'A#', 'B', 'C', 'C#', 'D', 'D#', 'E', 'F', 'F#', 'G', 'G#']\n",
    "print(dictToNormalNotes)"
   ]
  },
  {
   "cell_type": "code",
   "execution_count": 51,
   "id": "ddf5acb1-1118-4a54-b410-e687a34d92a8",
   "metadata": {},
   "outputs": [
    {
     "data": {
      "text/plain": [
       "Index(['CHORD_ROOT', 'CHORD_TYPE', 'CHORD_STRUCTURE', 'NOTES', 'N/A', 'N/A.1',\n",
       "       'N/A.2', 'N/A.3', 'N/A.4', 'N/A.5'],\n",
       "      dtype='object')"
      ]
     },
     "execution_count": 51,
     "metadata": {},
     "output_type": "execute_result"
    }
   ],
   "source": [
    "dfChordsSimplified"
   ]
  },
  {
   "cell_type": "code",
   "execution_count": 53,
   "id": "a24ba0a8-1734-410d-8981-e647fb3a75d1",
   "metadata": {},
   "outputs": [
    {
     "data": {
      "text/plain": [
       "3"
      ]
     },
     "execution_count": 53,
     "metadata": {},
     "output_type": "execute_result"
    }
   ],
   "source": [
    "dfChordsSimplified.columns.get_loc(\"NOTES\")"
   ]
  },
  {
   "cell_type": "code",
   "execution_count": 54,
   "id": "cdb52126-08ba-4099-9e11-8eb4c082d716",
   "metadata": {},
   "outputs": [
    {
     "name": "stdout",
     "output_type": "stream",
     "text": [
      "3\n",
      "4\n",
      "5\n",
      "6\n",
      "7\n",
      "8\n",
      "9\n"
     ]
    }
   ],
   "source": [
    "colNames=[\"NOTES\",\"N/A\",\"N/A.1\",\"N/A.2\",\"N/A.3\",\"N/A.4\",\"N/A.5\"]\n",
    "for i in colNames:\n",
    "    print(dfChordsSimplified.columns.get_loc(i))"
   ]
  },
  {
   "cell_type": "code",
   "execution_count": null,
   "id": "e30a4c51-7263-4f59-b73f-a10f065bfc1c",
   "metadata": {},
   "outputs": [],
   "source": []
  }
 ],
 "metadata": {
  "kernelspec": {
   "display_name": "Python 3 (ipykernel)",
   "language": "python",
   "name": "python3"
  },
  "language_info": {
   "codemirror_mode": {
    "name": "ipython",
    "version": 3
   },
   "file_extension": ".py",
   "mimetype": "text/x-python",
   "name": "python",
   "nbconvert_exporter": "python",
   "pygments_lexer": "ipython3",
   "version": "3.10.12"
  }
 },
 "nbformat": 4,
 "nbformat_minor": 5
}
